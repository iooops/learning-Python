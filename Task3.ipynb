{
 "cells": [
  {
   "cell_type": "code",
   "execution_count": null,
   "metadata": {},
   "outputs": [
    {
     "name": "stdout",
     "output_type": "stream",
     "text": [
      "猜测一个0-100的整数\n",
      "第1次猜，请输入一个整形数字：???\n",
      "格式错误，重输\n"
     ]
    }
   ],
   "source": [
    "\n",
    "# 练习题：\n",
    "\n",
    "# 1、猜数字游戏\n",
    "\n",
    "# 题目描述:\n",
    "\n",
    "# 电脑产生一个零到100之间的随机数字，然后让用户来猜，如果用户猜的数字比这个数字大，提示太大，否则提示太小，当用户正好猜中电脑会提示，\"恭喜你猜到了这个数是......\"。在用户每次猜测之前程序会输出用户是第几次猜测，如果用户输入的根本不是一个数字，程序会告诉用户\"输入无效\"。\n",
    "\n",
    "# (尝试使用try catch异常处理结构对输入情况进行处理)\n",
    "\n",
    "# 获取随机数采用random模块。\n",
    "\n",
    "\n",
    "import random\n",
    "secret = random.randint(0, 100) #[1,10]之间的随机数\n",
    "count = 1\n",
    "print('猜测一个0-100的整数')\n",
    "\n",
    "while True:\n",
    "    try:\n",
    "        temp = input(\"第\"+str(count)+\"次猜，请输入一个整形数字：\")\n",
    "        guess = int(temp)\n",
    "    except ValueError:\n",
    "        print('格式错误，重输')\n",
    "        continue\n",
    "    count += 1\n",
    "    if guess > secret:\n",
    "        print(\"大了，大了\")\n",
    "    else:\n",
    "        if guess == secret:\n",
    "            print(\"哼，猜对也没有奖励！\")\n",
    "            break\n",
    "        else:\n",
    "            print(\"小了，小了\")\n",
    "print(\"游戏结束，不玩儿啦！\")\n"
   ]
  },
  {
   "cell_type": "code",
   "execution_count": null,
   "metadata": {},
   "outputs": [],
   "source": []
  }
 ],
 "metadata": {
  "kernelspec": {
   "display_name": "Python 3",
   "language": "python",
   "name": "python3"
  },
  "language_info": {
   "codemirror_mode": {
    "name": "ipython",
    "version": 3
   },
   "file_extension": ".py",
   "mimetype": "text/x-python",
   "name": "python",
   "nbconvert_exporter": "python",
   "pygments_lexer": "ipython3",
   "version": "3.7.5"
  }
 },
 "nbformat": 4,
 "nbformat_minor": 2
}
