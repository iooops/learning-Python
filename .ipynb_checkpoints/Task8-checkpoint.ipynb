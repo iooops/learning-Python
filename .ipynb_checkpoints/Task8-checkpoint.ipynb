{
 "cells": [
  {
   "cell_type": "code",
   "execution_count": null,
   "metadata": {},
   "outputs": [],
   "source": [
    "# 模块：https://github.com/datawhalechina/team-learning-program/blob/master/PythonLanguage/15.%20%E6%A8%A1%E5%9D%97.md\n",
    "\n",
    "\n",
    "# 练习题：\n",
    "\n",
    "# 1、怎么查出通过 from xx import xx导⼊的可以直接调⽤的⽅法？\n",
    "\n",
    "# 2、了解Collection模块，编写程序以查询给定列表中最常见的元素。\n",
    "\n",
    "# 题目说明：\n",
    "\n",
    "# 输入：language = ['PHP', 'PHP', 'Python', 'PHP', 'Python', 'JS', 'Python', 'Python','PHP', 'Python']\n",
    "\n",
    "# 输出：Python\n",
    "\n",
    "# \"\"\"\n",
    "# Input file\n",
    "# language = ['PHP', 'PHP', 'Python', 'PHP', 'Python', 'JS', 'Python', 'Python','PHP', 'Python']\n",
    "   \n",
    "# Output file\n",
    "# Python\n",
    "# \"\"\"\n",
    "# def most_element(language):\n",
    "#     \"\"\" Return a list of lines after inserting a word in a specific line. \"\"\"\n",
    "   \n",
    "#     # your code here"
   ]
  }
 ],
 "metadata": {
  "kernelspec": {
   "display_name": "Python 3",
   "language": "python",
   "name": "python3"
  },
  "language_info": {
   "codemirror_mode": {
    "name": "ipython",
    "version": 3
   },
   "file_extension": ".py",
   "mimetype": "text/x-python",
   "name": "python",
   "nbconvert_exporter": "python",
   "pygments_lexer": "ipython3",
   "version": "3.7.5"
  }
 },
 "nbformat": 4,
 "nbformat_minor": 2
}
