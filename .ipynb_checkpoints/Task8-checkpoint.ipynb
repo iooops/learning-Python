{
 "cells": [
  {
   "cell_type": "code",
   "execution_count": null,
   "metadata": {},
   "outputs": [],
   "source": [
    "# 模块：https://github.com/datawhalechina/team-learning-program/blob/master/PythonLanguage/15.%20%E6%A8%A1%E5%9D%97.md\n",
    "\n",
    "\n",
    "# 练习题：\n",
    "\n",
    "# 1、怎么查出通过 from xx import xx导⼊的可以直接调⽤的⽅法？\n",
    "\n",
    "# 当使用 from package import item 这种形式的时候，对应的 item 既可以是包里面的子模块（子包），或者包里面定义的其他名称，比如函数，类或者变量。"
   ]
  },
  {
   "cell_type": "code",
   "execution_count": 7,
   "metadata": {},
   "outputs": [
    {
     "name": "stdout",
     "output_type": "stream",
     "text": [
      "Python\n"
     ]
    }
   ],
   "source": [
    "# 2、了解Collection模块，编写程序以查询给定列表中最常见的元素。\n",
    "\n",
    "# 题目说明：\n",
    "\n",
    "# 输入：language = ['PHP', 'PHP', 'Python', 'PHP', 'Python', 'JS', 'Python', 'Python','PHP', 'Python']\n",
    "\n",
    "# 输出：Python\n",
    "\n",
    "# \"\"\"\n",
    "# Input file\n",
    "language = ['PHP', 'PHP', 'Python', 'PHP', 'Python', 'JS', 'Python', 'Python','PHP', 'Python']\n",
    "   \n",
    "# Output file\n",
    "# Python\n",
    "# \"\"\"\n",
    "\n",
    "from collections import Counter\n",
    "\n",
    "def most_element(language):\n",
    "    \"\"\" Return a list of lines after inserting a word in a specific line. \"\"\"\n",
    "    return Counter(language).most_common(1)\n",
    "    # your code here\n",
    "    \n",
    "print(most_element(language)[0][0])"
   ]
  },
  {
   "cell_type": "code",
   "execution_count": 12,
   "metadata": {},
   "outputs": [
    {
     "name": "stdout",
     "output_type": "stream",
     "text": [
      "1590970230.0\n"
     ]
    }
   ],
   "source": [
    "# datetime模块：https://github.com/datawhalechina/team-learning-program/blob/master/PythonLanguage/16.%20datetime%E6%A8%A1%E5%9D%97.md\n",
    "\n",
    "# 练习题：\n",
    "\n",
    "# 1、假设你获取了用户输入的日期和时间如2020-1-21 9:01:30，以及一个时区信息如UTC+5:00，均是str，请编写一个函数将其转换为timestamp：\n",
    "\n",
    "# 题目说明:\n",
    "\n",
    "\"\"\"\n",
    "   \n",
    "Input file\n",
    "example1: dt_str='2020-6-1 08:10:30', tz_str='UTC+7:00'\n",
    "example2: dt_str='2020-5-31 16:10:30', tz_str='UTC-09:00'\n",
    "   \n",
    "Output file\n",
    "result1: 1590973830.0\n",
    "result2: 1590973830.0\n",
    "\"\"\"\n",
    "\n",
    "dt_str='2020-6-1 08:10:30' \n",
    "tz_str='UTC+7:00'\n",
    "   \n",
    "import datetime\n",
    "from dateutil import parser\n",
    "\n",
    "def to_timestamp(dt_str, tz_str):\n",
    "    # your code here\n",
    "    dt = parser.parse(dt_str)\n",
    "    return dt.timestamp()\n",
    "    \n",
    "print(to_timestamp(dt_str, tz_str))\n"
   ]
  },
  {
   "cell_type": "code",
   "execution_count": 27,
   "metadata": {},
   "outputs": [
    {
     "name": "stdout",
     "output_type": "stream",
     "text": [
      "3\n"
     ]
    },
    {
     "data": {
      "text/plain": [
       "[datetime.date(2020, 1, 5),\n",
       " datetime.date(2020, 1, 12),\n",
       " datetime.date(2020, 1, 19),\n",
       " datetime.date(2020, 1, 26),\n",
       " datetime.date(2020, 2, 2),\n",
       " datetime.date(2020, 2, 9),\n",
       " datetime.date(2020, 2, 16),\n",
       " datetime.date(2020, 2, 23),\n",
       " datetime.date(2020, 3, 1),\n",
       " datetime.date(2020, 3, 8),\n",
       " datetime.date(2020, 3, 15),\n",
       " datetime.date(2020, 3, 22),\n",
       " datetime.date(2020, 3, 29),\n",
       " datetime.date(2020, 4, 5),\n",
       " datetime.date(2020, 4, 12),\n",
       " datetime.date(2020, 4, 19),\n",
       " datetime.date(2020, 4, 26),\n",
       " datetime.date(2020, 5, 3),\n",
       " datetime.date(2020, 5, 10),\n",
       " datetime.date(2020, 5, 17),\n",
       " datetime.date(2020, 5, 24),\n",
       " datetime.date(2020, 5, 31),\n",
       " datetime.date(2020, 6, 7),\n",
       " datetime.date(2020, 6, 14),\n",
       " datetime.date(2020, 6, 21),\n",
       " datetime.date(2020, 6, 28),\n",
       " datetime.date(2020, 7, 5),\n",
       " datetime.date(2020, 7, 12),\n",
       " datetime.date(2020, 7, 19),\n",
       " datetime.date(2020, 7, 26),\n",
       " datetime.date(2020, 8, 2),\n",
       " datetime.date(2020, 8, 9),\n",
       " datetime.date(2020, 8, 16),\n",
       " datetime.date(2020, 8, 23),\n",
       " datetime.date(2020, 8, 30),\n",
       " datetime.date(2020, 9, 6),\n",
       " datetime.date(2020, 9, 13),\n",
       " datetime.date(2020, 9, 20),\n",
       " datetime.date(2020, 9, 27),\n",
       " datetime.date(2020, 10, 4),\n",
       " datetime.date(2020, 10, 11),\n",
       " datetime.date(2020, 10, 18),\n",
       " datetime.date(2020, 10, 25),\n",
       " datetime.date(2020, 11, 1),\n",
       " datetime.date(2020, 11, 8),\n",
       " datetime.date(2020, 11, 15),\n",
       " datetime.date(2020, 11, 22),\n",
       " datetime.date(2020, 11, 29),\n",
       " datetime.date(2020, 12, 6),\n",
       " datetime.date(2020, 12, 13),\n",
       " datetime.date(2020, 12, 20),\n",
       " datetime.date(2020, 12, 27)]"
      ]
     },
     "execution_count": 27,
     "metadata": {},
     "output_type": "execute_result"
    }
   ],
   "source": [
    "# 2、编写Python程序以选择指定年份的所有星期日。\n",
    "\n",
    "# 题目说明:\n",
    "\n",
    "\"\"\"\n",
    "   \n",
    "Input file\n",
    "   2020\n",
    "   \n",
    "Output file\n",
    "   2020-01-05                         \n",
    "   2020-01-12              \n",
    "   2020-01-19                \n",
    "   2020-01-26               \n",
    "   2020-02-02     \n",
    "   -----\n",
    "   2020-12-06               \n",
    "   2020-12-13                \n",
    "   2020-12-20                \n",
    "   2020-12-27 \n",
    "\"\"\"\n",
    "\n",
    "import datetime\n",
    "\n",
    "def all_sundays(year):\n",
    "    d1 = datetime.date(year, 1, 1)\n",
    "    d2 = datetime.date(year, 12, 31)\n",
    "    diff = 7 - d1.isoweekday()\n",
    "    sevendays = datetime.timedelta(days=7)\n",
    "    res = []\n",
    "    d = d1 + datetime.timedelta(days=diff)\n",
    "    while d <= d2:\n",
    "        res.append(d)\n",
    "        d += sevendays\n",
    "    return res\n",
    "    \n",
    "all_sundays(2020)\n"
   ]
  },
  {
   "cell_type": "code",
   "execution_count": null,
   "metadata": {},
   "outputs": [],
   "source": []
  }
 ],
 "metadata": {
  "kernelspec": {
   "display_name": "Python 3",
   "language": "python",
   "name": "python3"
  },
  "language_info": {
   "codemirror_mode": {
    "name": "ipython",
    "version": 3
   },
   "file_extension": ".py",
   "mimetype": "text/x-python",
   "name": "python",
   "nbconvert_exporter": "python",
   "pygments_lexer": "ipython3",
   "version": "3.7.5"
  }
 },
 "nbformat": 4,
 "nbformat_minor": 2
}
