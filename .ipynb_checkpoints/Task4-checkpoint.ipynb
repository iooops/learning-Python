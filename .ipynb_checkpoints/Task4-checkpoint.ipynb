{
 "cells": [
  {
   "cell_type": "code",
   "execution_count": 15,
   "metadata": {},
   "outputs": [
    {
     "name": "stdout",
     "output_type": "stream",
     "text": [
      "[2, 5, 6, 7, 8, 9, 2, 9, 9, 15]\n",
      "[2, 5, 6, 7, 8, 20, 9, 2, 9, 9, 15]\n",
      "[2, 5, 6, 7, 8, 20, 9, 2, 9, 9, 15, 2, 5, 6]\n",
      "[2, 5, 6, 8, 20, 9, 2, 9, 9, 15, 2, 5, 6]\n",
      "[6, 5, 2, 15, 9, 9, 2, 9, 20, 8, 6, 5, 2]\n",
      "[2, 2, 2, 5, 5, 6, 6, 8, 9, 9, 9, 15, 20]\n",
      "[20, 15, 9, 9, 9, 8, 6, 6, 5, 5, 2, 2, 2]\n"
     ]
    }
   ],
   "source": [
    "# 练习题：\n",
    "\n",
    "# 1、列表操作练习\n",
    "\n",
    "# 列表lst 内容如下\n",
    "\n",
    "lst = [2, 5, 6, 7, 8, 9, 2, 9, 9]\n",
    "\n",
    "# 请写程序完成下列操作：\n",
    "\n",
    "# 在列表的末尾增加元素15\n",
    "# 在列表的中间位置插入元素20\n",
    "# 将列表[2, 5, 6]合并到lst中\n",
    "# 移除列表中索引为3的元素\n",
    "# 翻转列表里的所有元素\n",
    "# 对列表里的元素进行排序，从小到大一次，从大到小一次\n",
    "\n",
    "lst.append(15)\n",
    "print(lst)\n",
    "lst.insert(5, 20)\n",
    "print(lst)\n",
    "lst.extend([2, 5, 6])\n",
    "print(lst)\n",
    "del lst[3:4]\n",
    "print(lst)\n",
    "lst.reverse()\n",
    "print(lst)\n",
    "lst.sort()\n",
    "print(lst)\n",
    "lst.sort(reverse=True)\n",
    "print(lst)"
   ]
  },
  {
   "cell_type": "code",
   "execution_count": 26,
   "metadata": {},
   "outputs": [
    {
     "name": "stdout",
     "output_type": "stream",
     "text": [
      "[2, [8, 12], True]\n"
     ]
    }
   ],
   "source": [
    "# 2、修改列表\n",
    "\n",
    "# 问题描述：\n",
    "\n",
    "lst = [1, [4, 6], True]\n",
    "\n",
    "# 请将列表里所有数字修改成原来的两倍\n",
    "\n",
    "lst[0] *= 2\n",
    "lst[1][0] *= 2\n",
    "lst[1][1] *= 2\n",
    "print(lst)"
   ]
  },
  {
   "cell_type": "code",
   "execution_count": null,
   "metadata": {},
   "outputs": [],
   "source": [
    "# 练习题(元组)：\n",
    "\n",
    "# 1、元组概念\n",
    "\n",
    "# 写出下面代码的执行结果和最终结果的类型\n",
    "\n",
    "# (1, 2)*2\n",
    "# (1, )*2\n",
    "# (1)*2\n",
    "# 分析为什么会出现这样的结果.\n"
   ]
  },
  {
   "cell_type": "code",
   "execution_count": 2,
   "metadata": {},
   "outputs": [
    {
     "data": {
      "text/plain": [
       "(1, 2, 1, 2)"
      ]
     },
     "execution_count": 2,
     "metadata": {},
     "output_type": "execute_result"
    }
   ],
   "source": [
    "(1, 2)*2"
   ]
  },
  {
   "cell_type": "code",
   "execution_count": 3,
   "metadata": {},
   "outputs": [
    {
     "data": {
      "text/plain": [
       "(1, 1)"
      ]
     },
     "execution_count": 3,
     "metadata": {},
     "output_type": "execute_result"
    }
   ],
   "source": [
    "(1, )*2"
   ]
  },
  {
   "cell_type": "code",
   "execution_count": 4,
   "metadata": {},
   "outputs": [
    {
     "data": {
      "text/plain": [
       "2"
      ]
     },
     "execution_count": 4,
     "metadata": {},
     "output_type": "execute_result"
    }
   ],
   "source": [
    "(1)*2"
   ]
  },
  {
   "cell_type": "code",
   "execution_count": 6,
   "metadata": {},
   "outputs": [
    {
     "name": "stdout",
     "output_type": "stream",
     "text": [
      "<class 'tuple'>\n",
      "<class 'int'>\n"
     ]
    }
   ],
   "source": [
    "# 2、拆包过程是什么？\n",
    "\n",
    "# a, b = 1, 2\n",
    "# 上述过程属于拆包吗？\n",
    "\n",
    "# 可迭代对象拆包时，怎么赋值给占位符？\n",
    "\n",
    "# (1,)代表元组， (1)代表数字\n",
    "print(type((1,)))\n",
    "print(type((1)))"
   ]
  },
  {
   "cell_type": "code",
   "execution_count": 7,
   "metadata": {},
   "outputs": [],
   "source": [
    "a, b = 1, 2"
   ]
  },
  {
   "cell_type": "code",
   "execution_count": 8,
   "metadata": {},
   "outputs": [
    {
     "name": "stdout",
     "output_type": "stream",
     "text": [
      "1 2\n"
     ]
    }
   ],
   "source": [
    "print(a, b)"
   ]
  },
  {
   "cell_type": "code",
   "execution_count": 9,
   "metadata": {},
   "outputs": [],
   "source": [
    "# 右边1,2 代表了 元组(1, 2)\n",
    "# 左边是解压后的元素"
   ]
  },
  {
   "cell_type": "code",
   "execution_count": null,
   "metadata": {},
   "outputs": [],
   "source": [
    "# 练习题（字符串）：\n",
    "\n",
    "# 1、字符串函数回顾\n"
   ]
  },
  {
   "cell_type": "code",
   "execution_count": 14,
   "metadata": {},
   "outputs": [
    {
     "name": "stdout",
     "output_type": "stream",
     "text": [
      " We Love LsgoGroup. WeWeWeWeWeWeWe\n"
     ]
    }
   ],
   "source": [
    "# 怎么批量替换字符串中的元素？\n",
    "# 用replace()\n",
    "\n",
    "str5 = ' I Love LsgoGroup. IIIIIII'\n",
    "print(str5.replace('I', 'We'))  # We Love LsgoGroup"
   ]
  },
  {
   "cell_type": "code",
   "execution_count": 12,
   "metadata": {},
   "outputs": [
    {
     "name": "stdout",
     "output_type": "stream",
     "text": [
      "['I', 'Love', 'LsgoGroup.', 'IIIIIII']\n"
     ]
    }
   ],
   "source": [
    "# 怎么把字符串按照空格进⾏拆分？\n",
    "# 用split()\n",
    "\n",
    "print(str5.split())"
   ]
  },
  {
   "cell_type": "code",
   "execution_count": 15,
   "metadata": {},
   "outputs": [
    {
     "name": "stdout",
     "output_type": "stream",
     "text": [
      "I Love LsgoGroup. IIIIIII\n"
     ]
    }
   ],
   "source": [
    "# 怎么去除字符串⾸位的空格？\n",
    "\n",
    "print(str5.lstrip())"
   ]
  },
  {
   "cell_type": "code",
   "execution_count": 18,
   "metadata": {},
   "outputs": [
    {
     "name": "stdout",
     "output_type": "stream",
     "text": [
      "True\n",
      "False\n",
      "False\n"
     ]
    }
   ],
   "source": [
    "# 2、实现isdigit函数\n",
    "\n",
    "# 题目要求\n",
    "\n",
    "# 实现函数isdigit， 判断字符串里是否只包含数字0~9\n",
    "\n",
    "def isdigit(string):\n",
    "    \"\"\"\n",
    "    判断字符串只包含数字\n",
    "    :param string:\n",
    "    :return:\n",
    "    \"\"\"\n",
    "    # your code here\n",
    "    return string.isnumeric()\n",
    "\n",
    "\n",
    "print(isdigit('14352345345'))\n",
    "print(isdigit('a4352345345'))\n",
    "print(isdigit('a'))"
   ]
  },
  {
   "cell_type": "code",
   "execution_count": null,
   "metadata": {},
   "outputs": [],
   "source": [
    "# 3、leetcode 5题 最长回文子串\n",
    "\n",
    "# 给定一个字符串 s，找到 s 中最长的回文子串。你可以假设 s 的最大长度为 1000。\n",
    "\n",
    "# 示例:\n",
    "\n",
    "# 输入: \"babad\"\n",
    "\n",
    "# 输出: \"bab\"\n",
    "\n",
    "# 输入: \"cbbd\"\n",
    "\n",
    "# 输出: \"bb\"\n",
    "def longestPalindrome(self, s: str) -> str:\n",
    "    # your code here\n",
    "    def expandAroundCenter(left, right):\n",
    "        L = left; R = right;\n",
    "        while (L >= 0 and R < len(s) and s[L]==s[R]):\n",
    "            L-=1; R+=1;\n",
    "        return R-L-1;\n",
    "\n",
    "    if (s==None or len(s) < 1): return \"\";\n",
    "    start = 0; end = 0;\n",
    "    for i in range(len(s)):\n",
    "        len1 = expandAroundCenter(i, i);\n",
    "        len2 = expandAroundCenter(i, i+1);\n",
    "        l = max(len1, len2);\n",
    "        if (l > end - start):\n",
    "            start = ceil(i - (l-1)/2);\n",
    "            end = floor(i + l/2);\n",
    "    return s[start:end+1]\n",
    "\n",
    "# https://leetcode.com/submissions/detail/372730215/\n",
    "    \n",
    "    "
   ]
  }
 ],
 "metadata": {
  "kernelspec": {
   "display_name": "Python 3",
   "language": "python",
   "name": "python3"
  },
  "language_info": {
   "codemirror_mode": {
    "name": "ipython",
    "version": 3
   },
   "file_extension": ".py",
   "mimetype": "text/x-python",
   "name": "python",
   "nbconvert_exporter": "python",
   "pygments_lexer": "ipython3",
   "version": "3.7.5"
  }
 },
 "nbformat": 4,
 "nbformat_minor": 2
}
