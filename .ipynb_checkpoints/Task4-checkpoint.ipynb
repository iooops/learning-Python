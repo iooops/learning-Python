{
 "cells": [
  {
   "cell_type": "code",
   "execution_count": 15,
   "metadata": {},
   "outputs": [
    {
     "name": "stdout",
     "output_type": "stream",
     "text": [
      "[2, 5, 6, 7, 8, 9, 2, 9, 9, 15]\n",
      "[2, 5, 6, 7, 8, 20, 9, 2, 9, 9, 15]\n",
      "[2, 5, 6, 7, 8, 20, 9, 2, 9, 9, 15, 2, 5, 6]\n",
      "[2, 5, 6, 8, 20, 9, 2, 9, 9, 15, 2, 5, 6]\n",
      "[6, 5, 2, 15, 9, 9, 2, 9, 20, 8, 6, 5, 2]\n",
      "[2, 2, 2, 5, 5, 6, 6, 8, 9, 9, 9, 15, 20]\n",
      "[20, 15, 9, 9, 9, 8, 6, 6, 5, 5, 2, 2, 2]\n"
     ]
    }
   ],
   "source": [
    "# 练习题：\n",
    "\n",
    "# 1、列表操作练习\n",
    "\n",
    "# 列表lst 内容如下\n",
    "\n",
    "lst = [2, 5, 6, 7, 8, 9, 2, 9, 9]\n",
    "\n",
    "# 请写程序完成下列操作：\n",
    "\n",
    "# 在列表的末尾增加元素15\n",
    "# 在列表的中间位置插入元素20\n",
    "# 将列表[2, 5, 6]合并到lst中\n",
    "# 移除列表中索引为3的元素\n",
    "# 翻转列表里的所有元素\n",
    "# 对列表里的元素进行排序，从小到大一次，从大到小一次\n",
    "\n",
    "lst.append(15)\n",
    "print(lst)\n",
    "lst.insert(5, 20)\n",
    "print(lst)\n",
    "lst.extend([2, 5, 6])\n",
    "print(lst)\n",
    "del lst[3:4]\n",
    "print(lst)\n",
    "lst.reverse()\n",
    "print(lst)\n",
    "lst.sort()\n",
    "print(lst)\n",
    "lst.sort(reverse=True)\n",
    "print(lst)"
   ]
  },
  {
   "cell_type": "code",
   "execution_count": null,
   "metadata": {},
   "outputs": [],
   "source": [
    "# 2、修改列表\n",
    "\n",
    "# 问题描述：\n",
    "\n",
    "# lst = [1, [4, 6], True]\n",
    "\n",
    "# 请将列表里所有数字修改成原来的两倍\n",
    "\n"
   ]
  }
 ],
 "metadata": {
  "kernelspec": {
   "display_name": "Python 3",
   "language": "python",
   "name": "python3"
  },
  "language_info": {
   "codemirror_mode": {
    "name": "ipython",
    "version": 3
   },
   "file_extension": ".py",
   "mimetype": "text/x-python",
   "name": "python",
   "nbconvert_exporter": "python",
   "pygments_lexer": "ipython3",
   "version": "3.7.5"
  }
 },
 "nbformat": 4,
 "nbformat_minor": 2
}
