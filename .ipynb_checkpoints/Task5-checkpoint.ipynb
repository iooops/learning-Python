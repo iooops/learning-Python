{
 "cells": [
  {
   "cell_type": "code",
   "execution_count": 1,
   "metadata": {},
   "outputs": [],
   "source": [
    "# 字典练习题：\n",
    "\n",
    "# 1、字典基本操作\n",
    "\n",
    "# 字典内容如下:\n",
    "\n",
    "dic = {\n",
    "    'python': 95,\n",
    "    'java': 99,\n",
    "    'c': 100\n",
    "    }\n",
    "# 用程序解答下面的题目\n"
   ]
  },
  {
   "cell_type": "code",
   "execution_count": 2,
   "metadata": {},
   "outputs": [
    {
     "name": "stdout",
     "output_type": "stream",
     "text": [
      "3\n"
     ]
    }
   ],
   "source": [
    "# 字典的长度是多少\n",
    "print(len(dic))"
   ]
  },
  {
   "cell_type": "code",
   "execution_count": 3,
   "metadata": {},
   "outputs": [
    {
     "name": "stdout",
     "output_type": "stream",
     "text": [
      "{'python': 95, 'java': 98, 'c': 100}\n"
     ]
    }
   ],
   "source": [
    "# 请修改'java' 这个key对应的value值为98\n",
    "dic['java'] = 98\n",
    "print(dic)"
   ]
  },
  {
   "cell_type": "code",
   "execution_count": 4,
   "metadata": {},
   "outputs": [
    {
     "name": "stdout",
     "output_type": "stream",
     "text": [
      "{'python': 95, 'java': 98}\n"
     ]
    }
   ],
   "source": [
    "# 删除 c 这个key\n",
    "dic.pop('c')\n",
    "print(dic)"
   ]
  },
  {
   "cell_type": "code",
   "execution_count": 5,
   "metadata": {},
   "outputs": [
    {
     "name": "stdout",
     "output_type": "stream",
     "text": [
      "{'python': 95, 'java': 98, 'php': 90}\n"
     ]
    }
   ],
   "source": [
    "# 增加一个key-value对，key值为 php, value是90\n",
    "dic['php'] = 90\n",
    "print(dic)"
   ]
  },
  {
   "cell_type": "code",
   "execution_count": 6,
   "metadata": {},
   "outputs": [
    {
     "name": "stdout",
     "output_type": "stream",
     "text": [
      "['python', 'java', 'php']\n"
     ]
    }
   ],
   "source": [
    "# 获取所有的key值，存储在列表里\n",
    "l = list(dic.keys())\n",
    "print(l)"
   ]
  },
  {
   "cell_type": "code",
   "execution_count": 7,
   "metadata": {},
   "outputs": [
    {
     "name": "stdout",
     "output_type": "stream",
     "text": [
      "[95, 98, 90]\n"
     ]
    }
   ],
   "source": [
    "# 获取所有的value值，存储在列表里\n",
    "l1 = list(dic.values())\n",
    "print(l1)"
   ]
  },
  {
   "cell_type": "code",
   "execution_count": 11,
   "metadata": {},
   "outputs": [
    {
     "name": "stdout",
     "output_type": "stream",
     "text": [
      "False\n"
     ]
    }
   ],
   "source": [
    "# 判断 javascript 是否在字典中\n",
    "if 'javascript' in dic:\n",
    "    print('True')\n",
    "else:  \n",
    "    print('False')"
   ]
  },
  {
   "cell_type": "code",
   "execution_count": 12,
   "metadata": {
    "scrolled": true
   },
   "outputs": [
    {
     "name": "stdout",
     "output_type": "stream",
     "text": [
      "283\n"
     ]
    }
   ],
   "source": [
    "# 获得字典里所有value 的和\n",
    "print(sum(list(dic.values())))"
   ]
  },
  {
   "cell_type": "code",
   "execution_count": 13,
   "metadata": {},
   "outputs": [
    {
     "name": "stdout",
     "output_type": "stream",
     "text": [
      "98\n"
     ]
    }
   ],
   "source": [
    "# 获取字典里最大的value\n",
    "print(max(list(dic.values())))"
   ]
  },
  {
   "cell_type": "code",
   "execution_count": 14,
   "metadata": {},
   "outputs": [
    {
     "name": "stdout",
     "output_type": "stream",
     "text": [
      "90\n"
     ]
    }
   ],
   "source": [
    "# 获取字典里最小的value\n",
    "print(min(list(dic.values())))"
   ]
  },
  {
   "cell_type": "code",
   "execution_count": 16,
   "metadata": {},
   "outputs": [
    {
     "name": "stdout",
     "output_type": "stream",
     "text": [
      "{'python': 95, 'java': 98, 'php': 97}\n"
     ]
    }
   ],
   "source": [
    "# 字典 dic1 = {'php': 97}， 将dic1的数据更新到dic中\n",
    "dic1 = {'php': 97}\n",
    "dic.update(dic1)\n",
    "print(dic)"
   ]
  },
  {
   "cell_type": "code",
   "execution_count": 64,
   "metadata": {},
   "outputs": [
    {
     "name": "stdout",
     "output_type": "stream",
     "text": [
      "{'python': {'上学期': 90, '下学期': 95}, 'c++': [95, 96, 97], 'java': [{'月考': 90, '期中考试': 94, '期末考试': 98}]}\n"
     ]
    }
   ],
   "source": [
    "# 2、字典中的value\n",
    "\n",
    "# 有一个字典，保存的是学生各个编程语言的成绩，内容如下\n",
    "\n",
    "data = {\n",
    "        'python': {'上学期': '90', '下学期': '95'},\n",
    "        'c++': ['95', '96', '97'],\n",
    "        'java': [{'月考':'90', '期中考试': '94', '期末考试': '98'}]\n",
    "        }\n",
    "# 各门课程的考试成绩存储方式并不相同，有的用字典，有的用列表，但是分数都是字符串类型，请实现函数transfer_score(score_dict)，将分数修改成int类型\n",
    "\n",
    "   \n",
    "def transfer_score(data):\n",
    "    # your code here\n",
    "    for k in data:\n",
    "        if k=='python':\n",
    "            for t in data[k]:\n",
    "                data[k][t] = int(data[k][t])\n",
    "        elif k=='c++':\n",
    "            for i in range(len(data[k])):\n",
    "                data[k][i] = int(data[k][i])\n",
    "        else:\n",
    "            for i in range(len(data[k])):\n",
    "                v = data[k][i]\n",
    "                for t in v:\n",
    "                    v[t] = int(v[t])\n",
    "    print(data)\n",
    "\n",
    "transfer_score(data)\n",
    "\n"
   ]
  },
  {
   "cell_type": "code",
   "execution_count": null,
   "metadata": {},
   "outputs": [],
   "source": [
    "# 集合练习题："
   ]
  },
  {
   "cell_type": "code",
   "execution_count": 1,
   "metadata": {},
   "outputs": [
    {
     "name": "stdout",
     "output_type": "stream",
     "text": [
      "(1,)\n"
     ]
    }
   ],
   "source": [
    "# 怎么表示只包含⼀个数字1的元组。\n",
    "print((1,))"
   ]
  },
  {
   "cell_type": "code",
   "execution_count": 4,
   "metadata": {},
   "outputs": [
    {
     "name": "stdout",
     "output_type": "stream",
     "text": [
      "{'y', 'z', 'x'}\n"
     ]
    }
   ],
   "source": [
    "# 创建一个空集合，增加 {‘x’,‘y’,‘z’} 三个元素。\n",
    "basket = set()\n",
    "basket.add('x')\n",
    "basket.add('y')\n",
    "basket.add('z')\n",
    "print(basket)"
   ]
  },
  {
   "cell_type": "code",
   "execution_count": 6,
   "metadata": {},
   "outputs": [
    {
     "name": "stdout",
     "output_type": "stream",
     "text": [
      "['B', 'A']\n"
     ]
    }
   ],
   "source": [
    "# 列表['A', 'B', 'A', 'B']去重。\n",
    "l = ['A', 'B', 'A', 'B']\n",
    "print(list(set(l)))"
   ]
  },
  {
   "cell_type": "code",
   "execution_count": 12,
   "metadata": {},
   "outputs": [
    {
     "name": "stdout",
     "output_type": "stream",
     "text": [
      "{9, 6}\n"
     ]
    }
   ],
   "source": [
    "# 求两个集合{6, 7, 8}，{7, 8, 9}中不重复的元素（差集指的是两个集合交集外的部分）。\n",
    "set1 = {6, 7, 8}\n",
    "set2 = {7, 8, 9}\n",
    "print(set1 ^ set2)"
   ]
  },
  {
   "cell_type": "code",
   "execution_count": 13,
   "metadata": {},
   "outputs": [
    {
     "name": "stdout",
     "output_type": "stream",
     "text": [
      "{'B', 'C'}\n"
     ]
    }
   ],
   "source": [
    "# 求{'A', 'B', 'C'}中元素在 {'B', 'C', 'D'}中出现的次数。\n",
    "set3 = {'A', 'B', 'C'}\n",
    "set4 = {'B', 'C', 'D'}\n",
    "print(set3 & set4)\n",
    "# 没有打印的就是0，打印的就是1"
   ]
  },
  {
   "cell_type": "code",
   "execution_count": 14,
   "metadata": {},
   "outputs": [],
   "source": [
    "# 序列练习题："
   ]
  },
  {
   "cell_type": "code",
   "execution_count": 29,
   "metadata": {},
   "outputs": [
    {
     "data": {
      "text/plain": [
       "(6, 1)"
      ]
     },
     "execution_count": 29,
     "metadata": {},
     "output_type": "execute_result"
    }
   ],
   "source": [
    "# 怎么找出序列中的最⼤、⼩值？\n",
    "a = [6, 1, 2, 3, 4, 5]\n",
    "max(a), min(a)"
   ]
  },
  {
   "cell_type": "code",
   "execution_count": 30,
   "metadata": {},
   "outputs": [
    {
     "name": "stdout",
     "output_type": "stream",
     "text": [
      "[1, 2, 3, 4, 5, 6]\n",
      "[6, 1, 2, 3, 4, 5]\n",
      "[1, 2, 3, 4, 5, 6]\n"
     ]
    }
   ],
   "source": [
    "# sort() 和 sorted() 区别\n",
    "a = [6, 1, 2, 3, 4, 5]\n",
    "print(sorted(a))\n",
    "print(a)\n",
    "a.sort()\n",
    "print(a)\n",
    "# sort()改变原序列，sorted()不改变原序列"
   ]
  },
  {
   "cell_type": "code",
   "execution_count": 36,
   "metadata": {},
   "outputs": [
    {
     "name": "stdout",
     "output_type": "stream",
     "text": [
      "5050\n"
     ]
    }
   ],
   "source": [
    "# 怎么快速求 1 到 100 所有整数相加之和？\n",
    "l = [i+1 for i in range(100)]\n",
    "print(sum(l))"
   ]
  },
  {
   "cell_type": "code",
   "execution_count": 37,
   "metadata": {},
   "outputs": [
    {
     "name": "stdout",
     "output_type": "stream",
     "text": [
      "[1.2599210498948732, 1.4422495703074083, 1.5874010519681994, 1.7099759466766968]\n"
     ]
    }
   ],
   "source": [
    "# 求列表 [2,3,4,5] 中每个元素的立方根。\n",
    "l = [2, 3, 4, 5]\n",
    "ans = [pow(i, 1/3) for i in l]\n",
    "print(ans)"
   ]
  },
  {
   "cell_type": "code",
   "execution_count": 40,
   "metadata": {},
   "outputs": [
    {
     "name": "stdout",
     "output_type": "stream",
     "text": [
      "{'x': 1, 'y': 2, 'z': 3}\n"
     ]
    }
   ],
   "source": [
    "# 将[‘x’,‘y’,‘z’] 和 [1,2,3] 转成 [(‘x’,1),(‘y’,2),(‘z’,3)] 的形式。\n",
    "a = ['x','y','z']\n",
    "b = [1,2,3]\n",
    "\n",
    "print(dict(zip(a, b)))"
   ]
  },
  {
   "cell_type": "code",
   "execution_count": null,
   "metadata": {},
   "outputs": [],
   "source": []
  }
 ],
 "metadata": {
  "kernelspec": {
   "display_name": "Python 3",
   "language": "python",
   "name": "python3"
  },
  "language_info": {
   "codemirror_mode": {
    "name": "ipython",
    "version": 3
   },
   "file_extension": ".py",
   "mimetype": "text/x-python",
   "name": "python",
   "nbconvert_exporter": "python",
   "pygments_lexer": "ipython3",
   "version": "3.7.5"
  }
 },
 "nbformat": 4,
 "nbformat_minor": 2
}
