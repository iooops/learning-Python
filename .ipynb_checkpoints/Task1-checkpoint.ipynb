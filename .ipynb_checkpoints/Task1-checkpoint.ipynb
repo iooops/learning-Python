{
 "cells": [
  {
   "cell_type": "code",
   "execution_count": 2,
   "metadata": {},
   "outputs": [
    {
     "data": {
      "text/plain": [
       "'\\n练习题：\\n\\n怎样对python中的代码进行注释？\\npython有哪些运算符，这些运算符的优先级是怎样的？\\npython 中 is, is not 与 ==, != 的区别是什么？\\npython 中包含哪些数据类型？这些数据类型之间如何转换？\\n'"
      ]
     },
     "execution_count": 2,
     "metadata": {},
     "output_type": "execute_result"
    }
   ],
   "source": [
    "'''\n",
    "练习题：\n",
    "\n",
    "怎样对python中的代码进行注释？\n",
    "python有哪些运算符，这些运算符的优先级是怎样的？\n",
    "python 中 is, is not 与 ==, != 的区别是什么？\n",
    "python 中包含哪些数据类型？这些数据类型之间如何转换？\n",
    "'''"
   ]
  },
  {
   "cell_type": "code",
   "execution_count": 3,
   "metadata": {},
   "outputs": [
    {
     "name": "stdout",
     "output_type": "stream",
     "text": [
      "Hello world\n",
      "Hello china\n",
      "hello china\n"
     ]
    }
   ],
   "source": [
    "# 怎样对python中的代码进行注释？\n",
    "\n",
    "# 1.单行\n",
    "\n",
    "# 这是一个注释\n",
    "print(\"Hello world\")\n",
    "\n",
    "\n",
    "# 2.多行\n",
    "\n",
    "'''\n",
    "这是多行注释，用三个单引号\n",
    "这是多行注释，用三个单引号\n",
    "这是多行注释，用三个单引号\n",
    "'''\n",
    "print(\"Hello china\") \n",
    "\n",
    "\"\"\"\n",
    "这是多行注释，用三个双引号\n",
    "这是多行注释，用三个双引号 \n",
    "这是多行注释，用三个双引号\n",
    "\"\"\"\n",
    "print(\"hello china\") \n"
   ]
  },
  {
   "cell_type": "code",
   "execution_count": 4,
   "metadata": {},
   "outputs": [
    {
     "name": "stdout",
     "output_type": "stream",
     "text": [
      "-9\n",
      "0.1111111111111111\n",
      "0\n",
      "-12.5\n",
      "True\n"
     ]
    }
   ],
   "source": [
    "# python有哪些运算符，这些运算符的优先级是怎样的？\n",
    "# 算术、比较、逻辑、位、其他\n",
    "\n",
    "# 运算符的优先级\n",
    "\n",
    "# 一元运算符优于二元运算符。例如3 ** -2等价于3 ** (-2)。\n",
    "# 先算术运算，后移位运算，最后位运算。例如 1 << 3 + 2 & 7等价于 (1 << (3 + 2)) & 7。\n",
    "# 逻辑运算最后结合。例如3 < 4 and 4 < 5等价于(3 < 4) and (4 < 5)。\n",
    "# 【例子】\n",
    "\n",
    "print(-3 ** 2)  # -9\n",
    "print(3 ** -2)  # 0.1111111111111111\n",
    "print(1 << 3 + 2 & 7)  # 0\n",
    "print(-3 * 2 + 5 / -2 - 4)  # -12.5\n",
    "print(3 < 4 and 4 < 5)  # True"
   ]
  },
  {
   "cell_type": "code",
   "execution_count": 5,
   "metadata": {},
   "outputs": [],
   "source": [
    "# python 中 is, is not 与 ==, != 的区别是什么？\n",
    "\n",
    "# https://blog.csdn.net/xiangjai/article/details/79947713\n",
    "# 只要各对象的值一样，则 x == y 的值一定为True；\n",
    "# 如果对象的类型为整数或字符串且值一样，则 x == y和 x is y 的值为True。（经测试浮点型数值，只有正浮点数符合这条规律，负浮点数不符合）；\n",
    "# list，tuple，dict，set值一样的话，x is y 则为False；\n",
    "# x == y 与 x != y 的值相反，x is y 与 x is not y 的值相反。\n"
   ]
  },
  {
   "cell_type": "code",
   "execution_count": 6,
   "metadata": {},
   "outputs": [
    {
     "name": "stdout",
     "output_type": "stream",
     "text": [
      "520\n",
      "520\n",
      "520.52\n",
      "520.0\n",
      "20\n",
      "15.3\n"
     ]
    }
   ],
   "source": [
    "# python 中包含哪些数据类型？这些数据类型之间如何转换？\n",
    "\n",
    "# init, float, bool\n",
    "\n",
    "# 类型转换\n",
    "\n",
    "# 转换为整型 int(x, base=10)\n",
    "# 转换为字符串 str(object='')\n",
    "# 转换为浮点型 float(x)\n",
    "\n",
    "# 【例子】\n",
    "\n",
    "print(int('520'))  # 520\n",
    "print(int(520.52))  # 520\n",
    "print(float('520.52'))  # 520.52\n",
    "print(float(520))  # 520.0\n",
    "print(str(10 + 10))  # 20\n",
    "print(str(10.1 + 5.2))  # 15.3"
   ]
  },
  {
   "cell_type": "code",
   "execution_count": null,
   "metadata": {},
   "outputs": [],
   "source": []
  }
 ],
 "metadata": {
  "kernelspec": {
   "display_name": "Python 3",
   "language": "python",
   "name": "python3"
  },
  "language_info": {
   "codemirror_mode": {
    "name": "ipython",
    "version": 3
   },
   "file_extension": ".py",
   "mimetype": "text/x-python",
   "name": "python",
   "nbconvert_exporter": "python",
   "pygments_lexer": "ipython3",
   "version": "3.7.5"
  }
 },
 "nbformat": 4,
 "nbformat_minor": 2
}
