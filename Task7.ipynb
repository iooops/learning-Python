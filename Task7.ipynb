{
 "cells": [
  {
   "cell_type": "code",
   "execution_count": 1,
   "metadata": {},
   "outputs": [],
   "source": [
    "# https://github.com/datawhalechina/team-learning-program/blob/master/PythonLanguage/13.%20%E7%B1%BB%E4%B8%8E%E5%AF%B9%E8%B1%A1.md\n",
    "\n",
    "# 类与对象练习题："
   ]
  },
  {
   "cell_type": "code",
   "execution_count": 2,
   "metadata": {},
   "outputs": [],
   "source": [
    "# 1、以下类定义中哪些是类属性，哪些是实例属性？\n",
    "# ？？？？\n"
   ]
  },
  {
   "cell_type": "code",
   "execution_count": 3,
   "metadata": {},
   "outputs": [
    {
     "name": "stdout",
     "output_type": "stream",
     "text": [
      "name  :  老马的程序人生\n",
      "url :  https://blog.csdn.net/LSGO_MYP\n",
      "这是公共方法\n",
      "这是私有方法\n"
     ]
    },
    {
     "ename": "AttributeError",
     "evalue": "'Site' object has no attribute '__foo'",
     "output_type": "error",
     "traceback": [
      "\u001b[0;31m---------------------------------------------------------------------------\u001b[0m",
      "\u001b[0;31mAttributeError\u001b[0m                            Traceback (most recent call last)",
      "\u001b[0;32m<ipython-input-3-3501d6753b97>\u001b[0m in \u001b[0;36m<module>\u001b[0;34m\u001b[0m\n\u001b[1;32m     29\u001b[0m \u001b[0;31m# 这是私有方法\u001b[0m\u001b[0;34m\u001b[0m\u001b[0;34m\u001b[0m\u001b[0;34m\u001b[0m\u001b[0m\n\u001b[1;32m     30\u001b[0m \u001b[0;34m\u001b[0m\u001b[0m\n\u001b[0;32m---> 31\u001b[0;31m \u001b[0mx\u001b[0m\u001b[0;34m.\u001b[0m\u001b[0m__foo\u001b[0m\u001b[0;34m(\u001b[0m\u001b[0;34m)\u001b[0m\u001b[0;34m\u001b[0m\u001b[0;34m\u001b[0m\u001b[0m\n\u001b[0m\u001b[1;32m     32\u001b[0m \u001b[0;31m# AttributeError: 'Site' object has no attribute '__foo'\u001b[0m\u001b[0;34m\u001b[0m\u001b[0;34m\u001b[0m\u001b[0;34m\u001b[0m\u001b[0m\n",
      "\u001b[0;31mAttributeError\u001b[0m: 'Site' object has no attribute '__foo'"
     ]
    }
   ],
   "source": [
    "# 2、怎么定义私有⽅法？\n",
    "\n",
    "# 在 Python 中定义私有变量只需要在变量名或函数名前加上“__”两个下划线，那么这个函数或变量就会为私有的了。\n",
    "\n",
    "class Site:\n",
    "    def __init__(self, name, url):\n",
    "        self.name = name  # public\n",
    "        self.__url = url  # private\n",
    "\n",
    "    def who(self):\n",
    "        print('name  : ', self.name)\n",
    "        print('url : ', self.__url)\n",
    "\n",
    "    def __foo(self):  # 私有方法\n",
    "        print('这是私有方法')\n",
    "\n",
    "    def foo(self):  # 公共方法\n",
    "        print('这是公共方法')\n",
    "        self.__foo()\n",
    "\n",
    "\n",
    "x = Site('老马的程序人生', 'https://blog.csdn.net/LSGO_MYP')\n",
    "x.who()\n",
    "# name  :  老马的程序人生\n",
    "# url :  https://blog.csdn.net/LSGO_MYP\n",
    "\n",
    "x.foo()\n",
    "# 这是公共方法\n",
    "# 这是私有方法\n",
    "\n",
    "x.__foo()\n",
    "# AttributeError: 'Site' object has no attribute '__foo'\n"
   ]
  },
  {
   "cell_type": "code",
   "execution_count": 4,
   "metadata": {},
   "outputs": [
    {
     "ename": "NameError",
     "evalue": "name 'C' is not defined",
     "output_type": "error",
     "traceback": [
      "\u001b[0;31m---------------------------------------------------------------------------\u001b[0m",
      "\u001b[0;31mNameError\u001b[0m                                 Traceback (most recent call last)",
      "\u001b[0;32m<ipython-input-4-4d3a559c1d3a>\u001b[0m in \u001b[0;36m<module>\u001b[0;34m\u001b[0m\n\u001b[1;32m      1\u001b[0m \u001b[0;31m# 3、尝试执行以下代码，并解释错误原因：\u001b[0m\u001b[0;34m\u001b[0m\u001b[0;34m\u001b[0m\u001b[0;34m\u001b[0m\u001b[0m\n\u001b[1;32m      2\u001b[0m \u001b[0;34m\u001b[0m\u001b[0m\n\u001b[0;32m----> 3\u001b[0;31m \u001b[0;32mclass\u001b[0m \u001b[0mC\u001b[0m\u001b[0;34m:\u001b[0m\u001b[0;34m\u001b[0m\u001b[0;34m\u001b[0m\u001b[0m\n\u001b[0m\u001b[1;32m      4\u001b[0m     \u001b[0;32mdef\u001b[0m \u001b[0mmyFun\u001b[0m\u001b[0;34m(\u001b[0m\u001b[0;34m)\u001b[0m\u001b[0;34m:\u001b[0m\u001b[0;34m\u001b[0m\u001b[0;34m\u001b[0m\u001b[0m\n\u001b[1;32m      5\u001b[0m         \u001b[0mprint\u001b[0m\u001b[0;34m(\u001b[0m\u001b[0;34m'Hello!'\u001b[0m\u001b[0;34m)\u001b[0m\u001b[0;34m\u001b[0m\u001b[0;34m\u001b[0m\u001b[0m\n",
      "\u001b[0;32m<ipython-input-4-4d3a559c1d3a>\u001b[0m in \u001b[0;36mC\u001b[0;34m()\u001b[0m\n\u001b[1;32m      4\u001b[0m     \u001b[0;32mdef\u001b[0m \u001b[0mmyFun\u001b[0m\u001b[0;34m(\u001b[0m\u001b[0;34m)\u001b[0m\u001b[0;34m:\u001b[0m\u001b[0;34m\u001b[0m\u001b[0;34m\u001b[0m\u001b[0m\n\u001b[1;32m      5\u001b[0m         \u001b[0mprint\u001b[0m\u001b[0;34m(\u001b[0m\u001b[0;34m'Hello!'\u001b[0m\u001b[0;34m)\u001b[0m\u001b[0;34m\u001b[0m\u001b[0;34m\u001b[0m\u001b[0m\n\u001b[0;32m----> 6\u001b[0;31m     \u001b[0mc\u001b[0m \u001b[0;34m=\u001b[0m \u001b[0mC\u001b[0m\u001b[0;34m(\u001b[0m\u001b[0;34m)\u001b[0m\u001b[0;34m\u001b[0m\u001b[0;34m\u001b[0m\u001b[0m\n\u001b[0m\u001b[1;32m      7\u001b[0m     \u001b[0mc\u001b[0m\u001b[0;34m.\u001b[0m\u001b[0mmyFun\u001b[0m\u001b[0;34m(\u001b[0m\u001b[0;34m)\u001b[0m\u001b[0;34m\u001b[0m\u001b[0;34m\u001b[0m\u001b[0m\n\u001b[1;32m      8\u001b[0m \u001b[0;34m\u001b[0m\u001b[0m\n",
      "\u001b[0;31mNameError\u001b[0m: name 'C' is not defined"
     ]
    }
   ],
   "source": [
    "# 3、尝试执行以下代码，并解释错误原因：\n",
    "\n",
    "class C:\n",
    "    def myFun():\n",
    "        print('Hello!')\n",
    "    c = C()\n",
    "    c.myFun()\n",
    "\n",
    "# 作用域不同"
   ]
  },
  {
   "cell_type": "code",
   "execution_count": 5,
   "metadata": {},
   "outputs": [
    {
     "name": "stdout",
     "output_type": "stream",
     "text": [
      "250.0\n"
     ]
    }
   ],
   "source": [
    "# 4、按照以下要求定义一个游乐园门票的类，并尝试计算2个成人+1个小孩平日票价。\n",
    "\n",
    "# 要求:\n",
    "\n",
    "# 平日票价100元\n",
    "# 周末票价为平日的120%\n",
    "# 儿童票半价\n",
    "class Ticket():\n",
    "    # your code here\n",
    "    def __init__(self):\n",
    "        self.__normalPrice = 100  # public\n",
    "        self.__weekendDiscount = 1.2  # private\n",
    "        self.__childrenDiscount = 0.5\n",
    "    \n",
    "    def getTotalPrice(self, isWeekend, numAdults, numChildren):\n",
    "        t = (numAdults * self.__normalPrice + numChildren * self.__normalPrice * self.__childrenDiscount) * (1 if isWeekend else self.__weekendDiscount)\n",
    "        return t\n",
    "    \n",
    "ticket = Ticket()\n",
    "print(ticket.getTotalPrice(True, 2, 1))"
   ]
  },
  {
   "cell_type": "code",
   "execution_count": 1,
   "metadata": {},
   "outputs": [
    {
     "name": "stdout",
     "output_type": "stream",
     "text": [
      "into B __new__\n",
      "<class '__main__.B'>\n",
      "into A __new__\n",
      "<class '__main__.B'>\n",
      "into B __init__\n",
      "into B __new__\n",
      "<class '__main__.B'>\n",
      "into A __new__\n",
      "<class '__main__.A'>\n"
     ]
    }
   ],
   "source": [
    "# https://github.com/datawhalechina/team-learning-program/blob/master/PythonLanguage/14.%20%E9%AD%94%E6%B3%95%E6%96%B9%E6%B3%95.md\n",
    "\n",
    "# 魔法方法练习题：\n",
    "\n",
    "# 1、上面提到了许多魔法方法，如__new__,__init__, __str__,__rstr__,__getitem__,__setitem__等等，请总结它们各自的使用方法。\n",
    "\n",
    "\n",
    "# 基本的魔法方法\n",
    "# __init__(self[, ...]) 构造器，当一个实例被创建的时候调用的初始化方法\n",
    "\n",
    "\n",
    "class A(object):\n",
    "    def __init__(self, value):\n",
    "        print(\"into A __init__\")\n",
    "        self.value = value\n",
    "\n",
    "    def __new__(cls, *args, **kwargs):\n",
    "        print(\"into A __new__\")\n",
    "        print(cls)\n",
    "        return object.__new__(cls)\n",
    "\n",
    "\n",
    "class B(A):\n",
    "    def __init__(self, value):\n",
    "        print(\"into B __init__\")\n",
    "        self.value = value\n",
    "\n",
    "    def __new__(cls, *args, **kwargs):\n",
    "        print(\"into B __new__\")\n",
    "        print(cls)\n",
    "        return super().__new__(cls, *args, **kwargs)\n",
    "\n",
    "\n",
    "b = B(10)\n",
    "\n",
    "class A(object):\n",
    "    def __init__(self, value):\n",
    "        print(\"into A __init__\")\n",
    "        self.value = value\n",
    "\n",
    "    def __new__(cls, *args, **kwargs):\n",
    "        print(\"into A __new__\")\n",
    "        print(cls)\n",
    "        return object.__new__(cls)\n",
    "\n",
    "\n",
    "class B(A):\n",
    "    def __init__(self, value):\n",
    "        print(\"into B __init__\")\n",
    "        self.value = value\n",
    "\n",
    "    def __new__(cls, *args, **kwargs):\n",
    "        print(\"into B __new__\")\n",
    "        print(cls)\n",
    "        return super().__new__(A, *args, **kwargs)  # 改动了cls变为A\n",
    "\n",
    "\n",
    "b = B(10)\n"
   ]
  },
  {
   "cell_type": "code",
   "execution_count": 2,
   "metadata": {},
   "outputs": [
    {
     "name": "stdout",
     "output_type": "stream",
     "text": [
      "4580170128\n",
      "4580169936\n",
      "4580167952\n",
      "4580167952\n"
     ]
    }
   ],
   "source": [
    "# 【例子】利用__new__实现单例模式。\n",
    "\n",
    "class Earth:\n",
    "    pass\n",
    "\n",
    "\n",
    "a = Earth()\n",
    "print(id(a))  # 260728291456\n",
    "b = Earth()\n",
    "print(id(b))  # 260728291624\n",
    "\n",
    "class Earth:\n",
    "    __instance = None  # 定义一个类属性做判断\n",
    "\n",
    "    def __new__(cls):\n",
    "        if cls.__instance is None:\n",
    "            cls.__instance = object.__new__(cls)\n",
    "            return cls.__instance\n",
    "        else:\n",
    "            return cls.__instance\n",
    "\n",
    "\n",
    "a = Earth()\n",
    "print(id(a))  # 512320401648\n",
    "b = Earth()\n",
    "print(id(b))  # 512320401648"
   ]
  },
  {
   "cell_type": "code",
   "execution_count": 3,
   "metadata": {},
   "outputs": [
    {
     "name": "stdout",
     "output_type": "stream",
     "text": [
      "I LOVE LSGOGROUP\n"
     ]
    }
   ],
   "source": [
    "# __new__方法主要是当你继承一些不可变的 class 时（比如int, str, tuple）， 提供给你一个自定义这些类的实例化过程的途径。\n",
    "# 【例子】\n",
    "\n",
    "class CapStr(str):\n",
    "    def __new__(cls, string):\n",
    "        string = string.upper()\n",
    "        return str.__new__(cls, string)\n",
    "\n",
    "\n",
    "a = CapStr(\"i love lsgogroup\")\n",
    "print(a)  # I LOVE LSGOGROUP"
   ]
  },
  {
   "cell_type": "code",
   "execution_count": 4,
   "metadata": {},
   "outputs": [
    {
     "name": "stdout",
     "output_type": "stream",
     "text": [
      "into C __init__\n",
      "into C __del__\n"
     ]
    }
   ],
   "source": [
    "# __del__(self) 析构器，当一个对象将要被系统回收之时调用的方法。\n",
    "\n",
    "class C(object):\n",
    "    def __init__(self):\n",
    "        print('into C __init__')\n",
    "\n",
    "    def __del__(self):\n",
    "        print('into C __del__')\n",
    "\n",
    "\n",
    "c1 = C()\n",
    "# into C __init__\n",
    "c2 = c1\n",
    "c3 = c2\n",
    "del c3\n",
    "del c2\n",
    "del c1\n",
    "# into C __del__"
   ]
  },
  {
   "cell_type": "code",
   "execution_count": 5,
   "metadata": {},
   "outputs": [
    {
     "name": "stdout",
     "output_type": "stream",
     "text": [
      "名字是:汤姆 , 年龄是:30\n",
      "名字是:汤姆 , 年龄是:30\n",
      "Cat:(汤姆,30)\n",
      "汤姆在吃鱼....\n",
      "名字是:汤姆, 年龄是:30\n"
     ]
    }
   ],
   "source": [
    "# __str__(self):\n",
    "\n",
    "# 当你打印一个对象的时候，触发__str__\n",
    "# 当你使用%s格式化的时候，触发__str__\n",
    "# str强转数据类型的时候，触发__str__\n",
    "# __repr__(self)：\n",
    "\n",
    "# repr是str的备胎\n",
    "# 有__str__的时候执行__str__,没有实现__str__的时候，执行__repr__\n",
    "# repr(obj)内置函数对应的结果是__repr__的返回值\n",
    "# 当你使用%r格式化的时候 触发__repr__\n",
    "\n",
    "class Cat:\n",
    "    \"\"\"定义一个猫类\"\"\"\n",
    "\n",
    "    def __init__(self, new_name, new_age):\n",
    "        \"\"\"在创建完对象之后 会自动调用, 它完成对象的初始化的功能\"\"\"\n",
    "        self.name = new_name\n",
    "        self.age = new_age\n",
    "\n",
    "    def __str__(self):\n",
    "        \"\"\"返回一个对象的描述信息\"\"\"\n",
    "        return \"名字是:%s , 年龄是:%d\" % (self.name, self.age)\n",
    "        \n",
    "    def __repr__(self):\n",
    "        \"\"\"返回一个对象的描述信息\"\"\"\n",
    "        return \"Cat:(%s,%d)\" % (self.name, self.age)\n",
    "\n",
    "    def eat(self):\n",
    "        print(\"%s在吃鱼....\" % self.name)\n",
    "\n",
    "    def drink(self):\n",
    "        print(\"%s在喝可乐...\" % self.name)\n",
    "\n",
    "    def introduce(self):\n",
    "        print(\"名字是:%s, 年龄是:%d\" % (self.name, self.age))\n",
    "\n",
    "\n",
    "# 创建了一个对象\n",
    "tom = Cat(\"汤姆\", 30)\n",
    "print(tom)  # 名字是:汤姆 , 年龄是:30\n",
    "print(str(tom)) # 名字是:汤姆 , 年龄是:30\n",
    "print(repr(tom))  # Cat:(汤姆,30)\n",
    "tom.eat()  # 汤姆在吃鱼....\n",
    "tom.introduce()  # 名字是:汤姆, 年龄是:30"
   ]
  },
  {
   "cell_type": "code",
   "execution_count": 6,
   "metadata": {},
   "outputs": [
    {
     "name": "stdout",
     "output_type": "stream",
     "text": [
      "2020-08-05\n",
      "datetime.date(2020, 8, 5)\n",
      "2020-08-05\n",
      "datetime.date(2020, 8, 5)\n"
     ]
    }
   ],
   "source": [
    "# __str__(self) 的返回结果可读性强。也就是说，__str__ 的意义是得到便于人们阅读的信息，就像下面的 '2019-10-11' 一样。\n",
    "# __repr__(self) 的返回结果应更准确。怎么说，__repr__ 存在的目的在于调试，便于开发者使用。\n",
    "\n",
    "# 【例子】\n",
    "\n",
    "import datetime\n",
    "\n",
    "today = datetime.date.today()\n",
    "print(str(today))  # 2019-10-11\n",
    "print(repr(today))  # datetime.date(2019, 10, 11)\n",
    "print('%s' %today)  # 2019-10-11\n",
    "print('%r' %today)  # datetime.date(2019, 10, 11)"
   ]
  },
  {
   "cell_type": "code",
   "execution_count": 7,
   "metadata": {},
   "outputs": [
    {
     "name": "stdout",
     "output_type": "stream",
     "text": [
      "高为 10  重为 5\n",
      "高为 20  重为 10\n",
      "高为 10  重为 5\n",
      "高为 30  重为 15\n"
     ]
    }
   ],
   "source": [
    "# __add__(self, other)定义加法的行为：+\n",
    "# __sub__(self, other)定义减法的行为：-\n",
    "\n",
    "# 【例子】\n",
    "\n",
    "class MyClass:\n",
    "\n",
    "    def __init__(self, height, weight):\n",
    "        self.height = height\n",
    "        self.weight = weight\n",
    "\n",
    "    # 两个对象的长相加，宽不变.返回一个新的类\n",
    "    def __add__(self, others):\n",
    "        return MyClass(self.height + others.height, self.weight + others.weight)\n",
    "\n",
    "    # 两个对象的宽相减，长不变.返回一个新的类\n",
    "    def __sub__(self, others):\n",
    "        return MyClass(self.height - others.height, self.weight - others.weight)\n",
    "\n",
    "    # 说一下自己的参数\n",
    "    def intro(self):\n",
    "        print(\"高为\", self.height, \" 重为\", self.weight)\n",
    "\n",
    "\n",
    "def main():\n",
    "    a = MyClass(height=10, weight=5)\n",
    "    a.intro()\n",
    "\n",
    "    b = MyClass(height=20, weight=10)\n",
    "    b.intro()\n",
    "\n",
    "    c = b - a\n",
    "    c.intro()\n",
    "\n",
    "    d = a + b\n",
    "    d.intro()\n",
    "\n",
    "\n",
    "if __name__ == '__main__':\n",
    "    main()"
   ]
  },
  {
   "cell_type": "code",
   "execution_count": 8,
   "metadata": {},
   "outputs": [
    {
     "name": "stdout",
     "output_type": "stream",
     "text": [
      "(3, 1)\n",
      "(4, 0)\n"
     ]
    }
   ],
   "source": [
    "# __mul__(self, other)定义乘法的行为：*\n",
    "# __truediv__(self, other)定义真除法的行为：/\n",
    "# __floordiv__(self, other)定义整数除法的行为：//\n",
    "# __mod__(self, other) 定义取模算法的行为：%\n",
    "# __divmod__(self, other)定义当被 divmod() 调用时的行为\n",
    "# divmod(a, b)把除数和余数运算结果结合起来，返回一个包含商和余数的元组(a // b, a % b)。\n",
    "# 【例子】\n",
    "\n",
    "print(divmod(7, 2))  # (3, 1)\n",
    "print(divmod(8, 2))  # (4, 0)"
   ]
  },
  {
   "cell_type": "code",
   "execution_count": null,
   "metadata": {},
   "outputs": [],
   "source": [
    "\n",
    "# __pow__(self, other[, module])定义当被 power() 调用或 ** 运算时的行为\n",
    "# __lshift__(self, other)定义按位左移位的行为：<<\n",
    "# __rshift__(self, other)定义按位右移位的行为：>>\n",
    "# __and__(self, other)定义按位与操作的行为：&\n",
    "# __xor__(self, other)定义按位异或操作的行为：^\n",
    "# __or__(self, other)定义按位或操作的行为：|\n"
   ]
  },
  {
   "cell_type": "code",
   "execution_count": 9,
   "metadata": {},
   "outputs": [
    {
     "name": "stdout",
     "output_type": "stream",
     "text": [
      "8\n",
      "-2\n"
     ]
    }
   ],
   "source": [
    "# 反算术运算符\n",
    "# 反运算魔方方法，与算术运算符保持一一对应，不同之处就是反运算的魔法方法多了一个“r”。当文件左操作不支持相应的操作时被调用。\n",
    "\n",
    "# __radd__(self, other)定义加法的行为：+\n",
    "# __rsub__(self, other)定义减法的行为：-\n",
    "# __rmul__(self, other)定义乘法的行为：*\n",
    "# __rtruediv__(self, other)定义真除法的行为：/\n",
    "# __rfloordiv__(self, other)定义整数除法的行为：//\n",
    "# __rmod__(self, other) 定义取模算法的行为：%\n",
    "# __rdivmod__(self, other)定义当被 divmod() 调用时的行为\n",
    "# __rpow__(self, other[, module])定义当被 power() 调用或 ** 运算时的行为\n",
    "# __rlshift__(self, other)定义按位左移位的行为：<<\n",
    "# __rrshift__(self, other)定义按位右移位的行为：>>\n",
    "# __rand__(self, other)定义按位与操作的行为：&\n",
    "# __rxor__(self, other)定义按位异或操作的行为：^\n",
    "# __ror__(self, other)定义按位或操作的行为：|\n",
    "\n",
    "# 这里加数是a，被加数是b，因此是a主动，反运算就是如果a对象的__add__()方法没有实现或者不支持相应的操作，那么 Python 就会调用b的__radd__()方法。\n",
    "\n",
    "# 【例子】\n",
    "\n",
    "class Nint(int):\n",
    "    def __radd__(self, other):\n",
    "        return int.__sub__(other, self) # 注意 self 在后面\n",
    "\n",
    "\n",
    "a = Nint(5)\n",
    "b = Nint(3)\n",
    "print(a + b)  # 8\n",
    "print(1 + b)  # -2"
   ]
  },
  {
   "cell_type": "code",
   "execution_count": null,
   "metadata": {},
   "outputs": [],
   "source": [
    "# 增量赋值运算符\n",
    "# __iadd__(self, other)定义赋值加法的行为：+=\n",
    "# __isub__(self, other)定义赋值减法的行为：-=\n",
    "# __imul__(self, other)定义赋值乘法的行为：*=\n",
    "# __itruediv__(self, other)定义赋值真除法的行为：/=\n",
    "# __ifloordiv__(self, other)定义赋值整数除法的行为：//=\n",
    "# __imod__(self, other)定义赋值取模算法的行为：%=\n",
    "# __ipow__(self, other[, modulo])定义赋值幂运算的行为：**=\n",
    "# __ilshift__(self, other)定义赋值按位左移位的行为：<<=\n",
    "# __irshift__(self, other)定义赋值按位右移位的行为：>>=\n",
    "# __iand__(self, other)定义赋值按位与操作的行为：&=\n",
    "# __ixor__(self, other)定义赋值按位异或操作的行为：^=\n",
    "# __ior__(self, other)定义赋值按位或操作的行为：|="
   ]
  },
  {
   "cell_type": "code",
   "execution_count": null,
   "metadata": {},
   "outputs": [],
   "source": [
    "# 一元运算符\n",
    "# __neg__(self)定义正号的行为：+x\n",
    "# __pos__(self)定义负号的行为：-x\n",
    "# __abs__(self)定义当被abs()调用时的行为\n",
    "# __invert__(self)定义按位求反的行为：~x\n"
   ]
  },
  {
   "cell_type": "code",
   "execution_count": 10,
   "metadata": {},
   "outputs": [
    {
     "name": "stdout",
     "output_type": "stream",
     "text": [
      "__getattribute__\n",
      "__getattr__\n",
      "__setattr__\n",
      "__delattr__\n"
     ]
    }
   ],
   "source": [
    "# 属性访问\n",
    "# __getattr__(self, name): 定义当用户试图获取一个不存在的属性时的行为。\n",
    "# __getattribute__(self, name)：定义当该类的属性被访问时的行为（先调用该方法，查看是否存在该属性，若不存在，接着去调用__getattr__）。\n",
    "# __setattr__(self, name, value)：定义当一个属性被设置时的行为。\n",
    "# __delattr__(self, name)：定义当一个属性被删除时的行为。\n",
    "# 【例子】\n",
    "\n",
    "class C:\n",
    "    def __getattribute__(self, item):\n",
    "        print('__getattribute__')\n",
    "        return super().__getattribute__(item)\n",
    "\n",
    "    def __getattr__(self, item):\n",
    "        print('__getattr__')\n",
    "\n",
    "    def __setattr__(self, key, value):\n",
    "        print('__setattr__')\n",
    "        super().__setattr__(key, value)\n",
    "\n",
    "    def __delattr__(self, item):\n",
    "        print('__delattr__')\n",
    "        super().__delattr__(item)\n",
    "\n",
    "\n",
    "c = C()\n",
    "c.x\n",
    "# __getattribute__\n",
    "# __getattr__\n",
    "\n",
    "c.x = 1\n",
    "# __setattr__\n",
    "\n",
    "del c.x\n",
    "# __delattr__\n"
   ]
  },
  {
   "cell_type": "code",
   "execution_count": 11,
   "metadata": {},
   "outputs": [
    {
     "name": "stdout",
     "output_type": "stream",
     "text": [
      "__get__ <__main__.MyDecriptor object at 0x111013650> <__main__.Test object at 0x111013290> <class '__main__.Test'>\n",
      "__set__ <__main__.MyDecriptor object at 0x111013650> <__main__.Test object at 0x111013290> x-man\n",
      "__delete__ <__main__.MyDecriptor object at 0x111013650> <__main__.Test object at 0x111013290>\n"
     ]
    }
   ],
   "source": [
    "# 描述符\n",
    "# 描述符就是将某种特殊类型的类的实例指派给另一个类的属性。\n",
    "\n",
    "# __get__(self, instance, owner)用于访问属性，它返回属性的值。\n",
    "# __set__(self, instance, value)将在属性分配操作中调用，不返回任何内容。\n",
    "# __del__(self, instance)控制删除操作，不返回任何内容。\n",
    "\n",
    "# 【例子】\n",
    "\n",
    "class MyDecriptor:\n",
    "    def __get__(self, instance, owner):\n",
    "        print('__get__', self, instance, owner)\n",
    "\n",
    "    def __set__(self, instance, value):\n",
    "        print('__set__', self, instance, value)\n",
    "\n",
    "    def __delete__(self, instance):\n",
    "        print('__delete__', self, instance)\n",
    "\n",
    "\n",
    "class Test:\n",
    "    x = MyDecriptor()\n",
    "\n",
    "\n",
    "t = Test()\n",
    "t.x\n",
    "# __get__ <__main__.MyDecriptor object at 0x000000CEAAEB6B00> <__main__.Test object at 0x000000CEABDC0898> <class '__main__.Test'>\n",
    "\n",
    "t.x = 'x-man'\n",
    "# __set__ <__main__.MyDecriptor object at 0x00000023687C6B00> <__main__.Test object at 0x00000023696B0940> x-man\n",
    "\n",
    "del t.x\n",
    "# __delete__ <__main__.MyDecriptor object at 0x000000EC9B160A90> <__main__.Test object at 0x000000EC9B160B38>\n"
   ]
  },
  {
   "cell_type": "code",
   "execution_count": 12,
   "metadata": {},
   "outputs": [
    {
     "name": "stdout",
     "output_type": "stream",
     "text": [
      "3\n",
      "6\n",
      "7\n",
      "{0: 0, 1: 2, 2: 0, 3: 0, 4: 0}\n",
      "{0: 0, 1: 1, 2: 1, 3: 0, 4: 0}\n"
     ]
    }
   ],
   "source": [
    "# 定制序列\n",
    "# 协议（Protocols）与其它编程语言中的接口很相似，它规定你哪些方法必须要定义。然而，在 Python 中的协议就显得不那么正式。事实上，在 Python 中，协议更像是一种指南。\n",
    "\n",
    "# 容器类型的协议\n",
    "\n",
    "# 如果说你希望定制的容器是不可变的话，你只需要定义__len__()和__getitem__()方法。\n",
    "# 如果你希望定制的容器是可变的话，除了__len__()和__getitem__()方法，你还需要定义__setitem__()和__delitem__()两个方法。\n",
    "# 【例子】编写一个不可改变的自定义列表，要求记录列表中每个元素被访问的次数。\n",
    "\n",
    "class CountList:\n",
    "    def __init__(self, *args):\n",
    "        self.values = [x for x in args]\n",
    "        self.count = {}.fromkeys(range(len(self.values)), 0)\n",
    "\n",
    "    def __len__(self):\n",
    "        return len(self.values)\n",
    "\n",
    "    def __getitem__(self, item):\n",
    "        self.count[item] += 1\n",
    "        return self.values[item]\n",
    "\n",
    "\n",
    "c1 = CountList(1, 3, 5, 7, 9)\n",
    "c2 = CountList(2, 4, 6, 8, 10)\n",
    "print(c1[1])  # 3\n",
    "print(c2[2])  # 6\n",
    "print(c1[1] + c2[1])  # 7\n",
    "\n",
    "print(c1.count)\n",
    "# {0: 0, 1: 2, 2: 0, 3: 0, 4: 0}\n",
    "\n",
    "print(c2.count)\n",
    "# {0: 0, 1: 1, 2: 1, 3: 0, 4: 0}"
   ]
  },
  {
   "cell_type": "code",
   "execution_count": 13,
   "metadata": {},
   "outputs": [
    {
     "name": "stdout",
     "output_type": "stream",
     "text": [
      "3\n",
      "6\n",
      "15\n",
      "{0: 0, 1: 2, 2: 0, 3: 0, 4: 0}\n",
      "{0: 0, 1: 0, 2: 2, 3: 0, 4: 0}\n",
      "{0: 0, 1: 0, 2: 0, 3: 0}\n"
     ]
    }
   ],
   "source": [
    "# __len__(self)定义当被len()调用时的行为（返回容器中元素的个数）。\n",
    "# __getitem__(self, key)定义获取容器中元素的行为，相当于self[key]。\n",
    "# __setitem__(self, key, value)定义设置容器中指定元素的行为，相当于self[key] = value。\n",
    "# __delitem__(self, key)定义删除容器中指定元素的行为，相当于del self[key]。\n",
    "\n",
    "# 【例子】编写一个可改变的自定义列表，要求记录列表中每个元素被访问的次数。\n",
    "\n",
    "class CountList:\n",
    "    def __init__(self, *args):\n",
    "        self.values = [x for x in args]\n",
    "        self.count = {}.fromkeys(range(len(self.values)), 0)\n",
    "\n",
    "    def __len__(self):\n",
    "        return len(self.values)\n",
    "\n",
    "    def __getitem__(self, item):\n",
    "        self.count[item] += 1\n",
    "        return self.values[item]\n",
    "\n",
    "    def __setitem__(self, key, value):\n",
    "        self.values[key] = value\n",
    "\n",
    "    def __delitem__(self, key):\n",
    "        del self.values[key]\n",
    "        for i in range(0, len(self.values)):\n",
    "            if i >= key:\n",
    "                self.count[i] = self.count[i + 1]\n",
    "        self.count.pop(len(self.values))\n",
    "\n",
    "\n",
    "c1 = CountList(1, 3, 5, 7, 9)\n",
    "c2 = CountList(2, 4, 6, 8, 10)\n",
    "print(c1[1])  # 3\n",
    "print(c2[2])  # 6\n",
    "c2[2] = 12\n",
    "print(c1[1] + c2[2])  # 15\n",
    "print(c1.count)\n",
    "# {0: 0, 1: 2, 2: 0, 3: 0, 4: 0}\n",
    "print(c2.count)\n",
    "# {0: 0, 1: 0, 2: 2, 3: 0, 4: 0}\n",
    "del c1[1]\n",
    "print(c1.count)\n",
    "# {0: 0, 1: 0, 2: 0, 3: 0}"
   ]
  },
  {
   "cell_type": "code",
   "execution_count": 14,
   "metadata": {},
   "outputs": [
    {
     "name": "stdout",
     "output_type": "stream",
     "text": [
      "l\n",
      "s\n",
      "g\n",
      "o\n",
      "g\n",
      "r\n",
      "o\n",
      "u\n",
      "p\n",
      "l\n",
      "s\n",
      "g\n",
      "o\n",
      "g\n",
      "r\n",
      "o\n",
      "u\n",
      "p\n"
     ]
    }
   ],
   "source": [
    "# 迭代器\n",
    "# 迭代是 Python 最强大的功能之一，是访问集合元素的一种方式。\n",
    "# 迭代器是一个可以记住遍历的位置的对象。\n",
    "# 迭代器对象从集合的第一个元素开始访问，直到所有的元素被访问完结束。\n",
    "# 迭代器只能往前不会后退。\n",
    "# 字符串，列表或元组对象都可用于创建迭代器：\n",
    "# 【例子】\n",
    "\n",
    "string = 'lsgogroup'\n",
    "for c in string:\n",
    "    print(c)\n",
    "\n",
    "'''\n",
    "l\n",
    "s\n",
    "g\n",
    "o\n",
    "g\n",
    "r\n",
    "o\n",
    "u\n",
    "p\n",
    "'''\n",
    "\n",
    "for c in iter(string):\n",
    "    print(c)"
   ]
  },
  {
   "cell_type": "code",
   "execution_count": 16,
   "metadata": {},
   "outputs": [
    {
     "name": "stdout",
     "output_type": "stream",
     "text": [
      "B -> 百度\n",
      "A -> 阿里\n",
      "T -> 腾讯\n",
      "B -> 百度\n",
      "A -> 阿里\n",
      "T -> 腾讯\n"
     ]
    }
   ],
   "source": [
    "# 【例子】\n",
    "\n",
    "links = {'B': '百度', 'A': '阿里', 'T': '腾讯'}\n",
    "for each in links:\n",
    "    print('%s -> %s' % (each, links[each]))\n",
    "    \n",
    "'''\n",
    "B -> 百度\n",
    "A -> 阿里\n",
    "T -> 腾讯\n",
    "'''\n",
    "\n",
    "for each in iter(links):\n",
    "    print('%s -> %s' % (each, links[each]))"
   ]
  },
  {
   "cell_type": "code",
   "execution_count": 17,
   "metadata": {},
   "outputs": [
    {
     "name": "stdout",
     "output_type": "stream",
     "text": [
      "1 1 2 3 5 8 13 21 34 55 89 "
     ]
    }
   ],
   "source": [
    "# 把一个类作为一个迭代器使用需要在类中实现两个魔法方法 __iter__() 与 __next__() 。\n",
    "\n",
    "# __iter__(self)定义当迭代容器中的元素的行为，返回一个特殊的迭代器对象， 这个迭代器对象实现了 __next__() 方法并通过 StopIteration 异常标识迭代的完成。\n",
    "# __next__() 返回下一个迭代器对象。\n",
    "# StopIteration 异常用于标识迭代的完成，防止出现无限循环的情况，在 __next__() 方法中我们可以设置在完成指定循环次数后触发 StopIteration 异常来结束迭代。\n",
    "# 【例子】\n",
    "\n",
    "class Fibs:\n",
    "    def __init__(self, n=10):\n",
    "        self.a = 0\n",
    "        self.b = 1\n",
    "        self.n = n\n",
    "\n",
    "    def __iter__(self):\n",
    "        return self\n",
    "\n",
    "    def __next__(self):\n",
    "        self.a, self.b = self.b, self.a + self.b\n",
    "        if self.a > self.n:\n",
    "            raise StopIteration\n",
    "        return self.a\n",
    "\n",
    "\n",
    "fibs = Fibs(100)\n",
    "for each in fibs:\n",
    "    print(each, end=' ')\n",
    "\n",
    "# 1 1 2 3 5 8 13 21 34 55 89"
   ]
  },
  {
   "cell_type": "code",
   "execution_count": 18,
   "metadata": {},
   "outputs": [
    {
     "name": "stdout",
     "output_type": "stream",
     "text": [
      "生成器执行！\n",
      "1\n",
      "2\n"
     ]
    },
    {
     "ename": "StopIteration",
     "evalue": "",
     "output_type": "error",
     "traceback": [
      "\u001b[0;31m---------------------------------------------------------------------------\u001b[0m",
      "\u001b[0;31mStopIteration\u001b[0m                             Traceback (most recent call last)",
      "\u001b[0;32m<ipython-input-18-4738159a5788>\u001b[0m in \u001b[0;36m<module>\u001b[0;34m\u001b[0m\n\u001b[1;32m     19\u001b[0m \u001b[0;34m\u001b[0m\u001b[0m\n\u001b[1;32m     20\u001b[0m \u001b[0mprint\u001b[0m\u001b[0;34m(\u001b[0m\u001b[0mnext\u001b[0m\u001b[0;34m(\u001b[0m\u001b[0mmyG\u001b[0m\u001b[0;34m)\u001b[0m\u001b[0;34m)\u001b[0m  \u001b[0;31m# 2\u001b[0m\u001b[0;34m\u001b[0m\u001b[0;34m\u001b[0m\u001b[0m\n\u001b[0;32m---> 21\u001b[0;31m \u001b[0mprint\u001b[0m\u001b[0;34m(\u001b[0m\u001b[0mnext\u001b[0m\u001b[0;34m(\u001b[0m\u001b[0mmyG\u001b[0m\u001b[0;34m)\u001b[0m\u001b[0;34m)\u001b[0m  \u001b[0;31m# StopIteration\u001b[0m\u001b[0;34m\u001b[0m\u001b[0;34m\u001b[0m\u001b[0m\n\u001b[0m\u001b[1;32m     22\u001b[0m \u001b[0;34m\u001b[0m\u001b[0m\n\u001b[1;32m     23\u001b[0m \u001b[0mmyG\u001b[0m \u001b[0;34m=\u001b[0m \u001b[0mmyGen\u001b[0m\u001b[0;34m(\u001b[0m\u001b[0;34m)\u001b[0m\u001b[0;34m\u001b[0m\u001b[0;34m\u001b[0m\u001b[0m\n",
      "\u001b[0;31mStopIteration\u001b[0m: "
     ]
    }
   ],
   "source": [
    "# 生成器\n",
    "\n",
    "# 在 Python 中，使用了 yield 的函数被称为生成器（generator）。\n",
    "# 跟普通函数不同的是，生成器是一个返回迭代器的函数，只能用于迭代操作，更简单点理解生成器就是一个迭代器。\n",
    "# 在调用生成器运行的过程中，每次遇到 yield 时函数会暂停并保存当前所有的运行信息，返回 yield 的值, 并在下一次执行 next() 方法时从当前位置继续运行。\n",
    "# 调用一个生成器函数，返回的是一个迭代器对象。\n",
    "# 【例子】\n",
    "\n",
    "def myGen():\n",
    "    print('生成器执行！')\n",
    "    yield 1\n",
    "    yield 2\n",
    "\n",
    "\n",
    "myG = myGen()\n",
    "print(next(myG))  \n",
    "# 生成器执行！\n",
    "# 1\n",
    "\n",
    "print(next(myG))  # 2\n",
    "print(next(myG))  # StopIteration\n",
    "\n",
    "myG = myGen()\n",
    "for each in myG:\n",
    "    print(each)\n",
    "\n",
    "'''\n",
    "生成器执行！\n",
    "1\n",
    "2\n",
    "'''\n"
   ]
  },
  {
   "cell_type": "code",
   "execution_count": null,
   "metadata": {},
   "outputs": [],
   "source": [
    "# 【例子】用生成器实现斐波那契数列。"
   ]
  },
  {
   "cell_type": "code",
   "execution_count": 19,
   "metadata": {},
   "outputs": [
    {
     "name": "stdout",
     "output_type": "stream",
     "text": [
      "1 1 2 3 5 8 13 21 34 55 89 "
     ]
    }
   ],
   "source": [
    "def libs(n):\n",
    "    a = 0\n",
    "    b = 1\n",
    "    while True:\n",
    "        a, b = b, a + b\n",
    "        if a > n:\n",
    "            return\n",
    "        yield a\n",
    "\n",
    "\n",
    "for each in libs(100):\n",
    "    print(each, end=' ')\n",
    "\n",
    "# 1 1 2 3 5 8 13 21 34 55 89"
   ]
  },
  {
   "cell_type": "code",
   "execution_count": 45,
   "metadata": {},
   "outputs": [],
   "source": [
    "# 2、利用python做一个简单的定时器类\n",
    "\n",
    "# 要求:\n",
    "\n",
    "# 定制一个计时器的类。\n",
    "# start和stop方法代表启动计时和停止计时。\n",
    "# 假设计时器对象t1，print(t1)和直接调用t1均显示结果。\n",
    "# 当计时器未启动或已经停止计时时，调用stop方法会给予温馨的提示。\n",
    "# 两个计时器对象可以进行相加：t1+t2。\n",
    "# 只能使用提供的有限资源完成。\n",
    "\n",
    "import time\n",
    "\n",
    "class TimerError(Exception):\n",
    "    \"\"\"A custom exception used to report errors in use of Timer class\"\"\"\n",
    "\n",
    "class Timer:\n",
    "    def __init__(self, start_time=None):\n",
    "        if start_time is not None:\n",
    "            self._start_time = start_time\n",
    "        self._start_time = None\n",
    "\n",
    "    def start(self):\n",
    "        \"\"\"Start a new timer\"\"\"\n",
    "        if self._start_time is not None:\n",
    "            raise TimerError(f\"Timer is running. Use .stop() to stop it\")\n",
    "\n",
    "        self._start_time = time.perf_counter()\n",
    "\n",
    "    def stop(self):\n",
    "        \"\"\"Stop the timer, and report the elapsed time\"\"\"\n",
    "        if self._start_time is None:\n",
    "            raise TimerError(f\"Timer is not running. Use .start() to start it\")\n",
    "\n",
    "        elapsed_time = time.perf_counter() - self._start_time\n",
    "        self._start_time = None\n",
    "        print(f\"Elapsed time: {elapsed_time:0.4f} seconds\")\n",
    "        \n",
    "    def __str__(self):\n",
    "        \"\"\"返回一个对象的描述信息\"\"\"\n",
    "        elapsed_time = time.perf_counter() - self._start_time\n",
    "        return f\"Elapsed time: {elapsed_time:0.4f} seconds\"\n",
    "    \n",
    "    def __get__(self):\n",
    "        \"\"\"返回一个对象的描述信息\"\"\"\n",
    "        elapsed_time = time.perf_counter() - self._start_time\n",
    "        print(f\"Elapsed time: {elapsed_time:0.4f} seconds\")\n",
    "    \n",
    "    def __add__(self, others):\n",
    "        elapsed_time_self = time.perf_counter() - self._start_time\n",
    "        elapsed_time_others = time.perf_counter() - others._start_time\n",
    "        return Timer(time.perf_counter() - elapsed_time_self - elapsed_time_others)\n",
    "        \n",
    "timer1 = Timer()\n",
    "timer1.start()\n"
   ]
  },
  {
   "cell_type": "code",
   "execution_count": 46,
   "metadata": {},
   "outputs": [],
   "source": [
    "timer2 = Timer()\n",
    "timer2.start()\n",
    "\n",
    "timer = timer1 + timer2"
   ]
  },
  {
   "cell_type": "code",
   "execution_count": 47,
   "metadata": {},
   "outputs": [],
   "source": [
    "timer.start()"
   ]
  },
  {
   "cell_type": "code",
   "execution_count": 48,
   "metadata": {},
   "outputs": [
    {
     "name": "stdout",
     "output_type": "stream",
     "text": [
      "Elapsed time: 0.2474 seconds\n"
     ]
    }
   ],
   "source": [
    "timer.stop()"
   ]
  },
  {
   "cell_type": "code",
   "execution_count": null,
   "metadata": {},
   "outputs": [],
   "source": []
  }
 ],
 "metadata": {
  "kernelspec": {
   "display_name": "Python 3",
   "language": "python",
   "name": "python3"
  },
  "language_info": {
   "codemirror_mode": {
    "name": "ipython",
    "version": 3
   },
   "file_extension": ".py",
   "mimetype": "text/x-python",
   "name": "python",
   "nbconvert_exporter": "python",
   "pygments_lexer": "ipython3",
   "version": "3.7.5"
  }
 },
 "nbformat": 4,
 "nbformat_minor": 2
}
