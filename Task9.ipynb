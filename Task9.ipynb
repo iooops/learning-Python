{
 "cells": [
  {
   "cell_type": "code",
   "execution_count": null,
   "metadata": {},
   "outputs": [],
   "source": [
    "# 文件与文件系统：https://github.com/datawhalechina/team-learning-program/blob/master/PythonLanguage/17.%20%E6%96%87%E4%BB%B6%E4%B8%8E%E6%96%87%E4%BB%B6%E7%B3%BB%E7%BB%9F.md\n",
    "\n",
    "# 练习题：\n",
    "\n",
    "# 1、打开中文字符的文档时，会出现乱码，Python自带的打开文件是否可以指定文字编码？还是只能用相关函数？\n",
    "\n",
    "# open(file, mode='r', buffering=None, encoding=None, errors=None, newline=None, closefd=True) Open file and return a stream. Raise OSError upon failure.\n",
    "# file: 必需，文件路径（相对或者绝对路径）。\n",
    "# mode: 可选，文件打开模式\n",
    "# buffering: 设置缓冲\n",
    "# encoding: 一般使用utf8\n",
    "# errors: 报错级别\n",
    "# newline: 区分换行符\n",
    "\n",
    "# 设置encoding即可"
   ]
  },
  {
   "cell_type": "code",
   "execution_count": null,
   "metadata": {},
   "outputs": [],
   "source": [
    "# 2、编写程序查找最长的单词\n",
    "\n",
    "# 输入文档: res/test.txt\n",
    "\n",
    "# 题目说明:\n",
    "\n",
    "# \"\"\"\n",
    "   \n",
    "# Input file\n",
    "#    test.txt\n",
    "   \n",
    "# Output file\n",
    "#    ['general-purpose,', 'object-oriented,']\n",
    "   \n",
    "# \"\"\"\n",
    "def longest_word(filename):\n",
    "    # your code here\n",
    "    qfile=open('dict.txt','r')\n",
    "    longg=''\n",
    "    for line in qfile:\n",
    "        if len(line)>len(longg):\n",
    "            longg=line\n",
    "    return longg\n",
    "   "
   ]
  }
 ],
 "metadata": {
  "kernelspec": {
   "display_name": "Python 3",
   "language": "python",
   "name": "python3"
  },
  "language_info": {
   "codemirror_mode": {
    "name": "ipython",
    "version": 3
   },
   "file_extension": ".py",
   "mimetype": "text/x-python",
   "name": "python",
   "nbconvert_exporter": "python",
   "pygments_lexer": "ipython3",
   "version": "3.7.5"
  }
 },
 "nbformat": 4,
 "nbformat_minor": 2
}
